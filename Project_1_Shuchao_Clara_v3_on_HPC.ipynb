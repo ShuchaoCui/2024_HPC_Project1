{
 "cells": [
  {
   "cell_type": "markdown",
   "source": [],
   "metadata": {
    "collapsed": false
   }
  },
  {
   "cell_type": "markdown",
   "source": [
    "• Implement parallel KNN for regression (with the tools we already reviewed).\n",
    "• We will provide the sequential code.\n",
    "• You will implement a parallel version of the algorithm.\n",
    "• The parallel version should give the same results (output) as the sequential version.\n",
    "• You will do a benchmark (at least 30 runs) and present the result of real time and also CPU time with average and standard deviation.\n",
    "• Main things to highlight:\n",
    "• Approach you used to parallelize and why.\n",
    "• The speed-up gain in real time."
   ],
   "metadata": {
    "collapsed": false
   }
  },
  {
   "cell_type": "markdown",
   "source": [
    "• Teams of max 3 people.\n",
    "• Send us the code (or jupyter notebook, an easy way to run it).\n",
    "• If its .py files put it in a zip folder.\n",
    "• Put your name (or the team members name) on the file or the notebook.\n",
    "• Explain your logic with code comments.\n",
    "• Use the HPC of the university (Aion).\n",
    "• Do not change the random seed of the code to replicate the results.\n",
    "• Send the project results before 12 of November (sending later its possible but will remove 30% of the total score)."
   ],
   "metadata": {
    "collapsed": false
   }
  },
  {
   "cell_type": "code",
   "execution_count": 2,
   "outputs": [],
   "source": [
    "# from KNNClassifier import KNNClassifier\n",
    "import numpy as np\n",
    "from joblib import Parallel, delayed\n",
    "import time"
   ],
   "metadata": {
    "collapsed": false,
    "ExecuteTime": {
     "end_time": "2024-11-03T15:13:25.749800900Z",
     "start_time": "2024-11-03T15:13:25.660192800Z"
    }
   }
  },
  {
   "cell_type": "code",
   "execution_count": 3,
   "outputs": [
    {
     "name": "stdout",
     "output_type": "stream",
     "text": [
      "X_train shape (100000, 500) - y_train shape (100000,)\n"
     ]
    }
   ],
   "source": [
    "# Example with random data\n",
    "rows = 100000\n",
    "cols = 500\n",
    "np.random.seed(699)\n",
    "X_train = np.random.rand(rows * cols).reshape((rows, cols))\n",
    "y_train = np.random.randint(2, size=rows)\n",
    "print(f'X_train shape {X_train.shape} - y_train shape {y_train.shape}')\n",
    "\n",
    "# Create random indices to test\n",
    "test_size = 1000\n",
    "X_test = np.random.randint(rows, size=test_size)"
   ],
   "metadata": {
    "collapsed": false,
    "ExecuteTime": {
     "end_time": "2024-11-03T15:13:27.893352900Z",
     "start_time": "2024-11-03T15:13:27.711127800Z"
    }
   }
  },
  {
   "cell_type": "code",
   "execution_count": null,
   "outputs": [],
   "source": [
    "# The version without parallel\n",
    "\n",
    "import numpy as np\n",
    "import time\n",
    "\n",
    "# Sample data\n",
    "rows = 100000\n",
    "cols = 500\n",
    "np.random.seed(699)\n",
    "X_train = np.random.rand(rows, cols)\n",
    "y_train = np.random.randint(2, size=rows)\n",
    "\n",
    "# Sample test indices\n",
    "test_size = 1000\n",
    "X_test_indices = np.random.randint(rows, size=test_size)\n",
    "\n",
    "# Modify the KNN classifier to handle smaller batches\n",
    "class KNNClassifier:\n",
    "    def __init__(self, k=3):\n",
    "        self.k = k\n",
    "\n",
    "    def fit(self, X, y):\n",
    "        self.X_train = X\n",
    "        self.y_train = y\n",
    "\n",
    "    def euclidean_distance(self, x1, x2):\n",
    "        return np.sqrt(np.sum((x1 - x2) ** 2))\n",
    "\n",
    "    def predict(self, X):\n",
    "        # Process predictions in batches to reduce memory usage\n",
    "        batch_size = 50  # Define a manageable batch size\n",
    "        y_pred = []\n",
    "        for i in range(0, len(X), batch_size):\n",
    "            X_batch = X[i:i+batch_size]\n",
    "            batch_pred = [self._predict(x) for x in X_batch]\n",
    "            y_pred.extend(batch_pred)\n",
    "            # Print progress within each batch\n",
    "            print(f\"Processed batch {i // batch_size + 1}/{len(X) // batch_size + 1}\")\n",
    "        return np.array(y_pred)\n",
    "\n",
    "    def _predict(self, x):\n",
    "        # Calculate distances from the input point to all training points\n",
    "        distances = [self.euclidean_distance(x, x_train) for x_train in self.X_train]\n",
    "        # Sort by distance and get indices of the first k neighbors\n",
    "        k_indices = np.argsort(distances)[:self.k]\n",
    "        # Get the labels of the k nearest neighbors\n",
    "        k_nearest_labels = [self.y_train[i] for i in k_indices]\n",
    "        # Return the most common label\n",
    "        return np.bincount(k_nearest_labels).argmax()\n",
    "\n",
    "# Create an instance of the KNN classifier\n",
    "knn = KNNClassifier(k=2)\n",
    "knn.fit(X_train, y_train)\n",
    "\n",
    "# Perform multiple runs with smaller prediction batches\n",
    "correct_predictions = []\n",
    "total_time = 0.0\n",
    "\n",
    "for i in range(30):\n",
    "    print(f\"\\nStarting run {i+1}...\")\n",
    "    start_time = time.time()\n",
    "\n",
    "    # Split X_test_indices into smaller chunks\n",
    "    chunk_size = 200  # Define chunk size to limit memory usage\n",
    "    correct_count = 0\n",
    "\n",
    "    for j in range(0, test_size, chunk_size):\n",
    "        # Get a chunk of test indices\n",
    "        chunk_indices = X_test_indices[j:j+chunk_size]\n",
    "        X_test_chunk = X_train[chunk_indices]\n",
    "\n",
    "        # Make predictions on the chunk\n",
    "        predictions = knn.predict(X_test_chunk)\n",
    "        correct_count += np.sum(y_train[chunk_indices] == predictions)  # Correct predictions in this chunk\n",
    "\n",
    "        # Print progress within each chunk\n",
    "        print(f\"Chunk {j // chunk_size + 1}/{test_size // chunk_size + 1} completed in Run {i+1}\")\n",
    "\n",
    "    end_time = time.time()\n",
    "    elapsed_time = end_time - start_time\n",
    "    total_time += elapsed_time\n",
    "\n",
    "    # Record and print results for this run\n",
    "    correct_predictions.append(correct_count)\n",
    "    print(f\"Run {i+1}: Correct Predictions = {correct_count}, Time = {elapsed_time:.4f} seconds\")\n",
    "\n",
    "# Calculate averages\n",
    "average_correct = np.mean(correct_predictions)\n",
    "print(f\"\\nAverage Correct Predictions over 30 runs: {average_correct}\")\n",
    "print(f\"Total Execution Time over 30 runs: {total_time:.4f} seconds\")\n"
   ],
   "metadata": {
    "collapsed": false
   }
  },
  {
   "cell_type": "code",
   "execution_count": 5,
   "outputs": [
    {
     "name": "stdout",
     "output_type": "stream",
     "text": [
      "Run 1: Correct Predictions = 743, Time = 120.4701 seconds\n"
     ]
    },
    {
     "ename": "KeyboardInterrupt",
     "evalue": "",
     "output_type": "error",
     "traceback": [
      "\u001B[1;31m---------------------------------------------------------------------------\u001B[0m",
      "\u001B[1;31mKeyboardInterrupt\u001B[0m                         Traceback (most recent call last)",
      "Cell \u001B[1;32mIn[5], line 52\u001B[0m\n\u001B[0;32m     47\u001B[0m start_time \u001B[38;5;241m=\u001B[39m time\u001B[38;5;241m.\u001B[39mtime()\n\u001B[0;32m     51\u001B[0m \u001B[38;5;66;03m# Make predictions using the test samples\u001B[39;00m\n\u001B[1;32m---> 52\u001B[0m predictions \u001B[38;5;241m=\u001B[39m \u001B[43mknn_p\u001B[49m\u001B[38;5;241;43m.\u001B[39;49m\u001B[43mpredict\u001B[49m\u001B[43m(\u001B[49m\u001B[43mX_train\u001B[49m\u001B[43m[\u001B[49m\u001B[43mX_test\u001B[49m\u001B[43m]\u001B[49m\u001B[43m)\u001B[49m\n\u001B[0;32m     53\u001B[0m correct_count \u001B[38;5;241m=\u001B[39m np\u001B[38;5;241m.\u001B[39msum(y_train[X_test] \u001B[38;5;241m==\u001B[39m predictions)  \u001B[38;5;66;03m# Count correct predictions\u001B[39;00m\n\u001B[0;32m     55\u001B[0m \u001B[38;5;66;03m# Update total correct predictions\u001B[39;00m\n",
      "Cell \u001B[1;32mIn[5], line 21\u001B[0m, in \u001B[0;36mKNNClassifier_p.predict\u001B[1;34m(self, X)\u001B[0m\n\u001B[0;32m     19\u001B[0m \u001B[38;5;28;01mdef\u001B[39;00m \u001B[38;5;21mpredict\u001B[39m(\u001B[38;5;28mself\u001B[39m, X):\n\u001B[0;32m     20\u001B[0m     \u001B[38;5;66;03m# Predict labels for the provided data using parallel processing\u001B[39;00m\n\u001B[1;32m---> 21\u001B[0m     y_pred \u001B[38;5;241m=\u001B[39m \u001B[43mParallel\u001B[49m\u001B[43m(\u001B[49m\u001B[43mn_jobs\u001B[49m\u001B[38;5;241;43m=\u001B[39;49m\u001B[38;5;241;43m-\u001B[39;49m\u001B[38;5;241;43m1\u001B[39;49m\u001B[43m)\u001B[49m\u001B[43m(\u001B[49m\u001B[43mdelayed\u001B[49m\u001B[43m(\u001B[49m\u001B[38;5;28;43mself\u001B[39;49m\u001B[38;5;241;43m.\u001B[39;49m\u001B[43m_predict\u001B[49m\u001B[43m)\u001B[49m\u001B[43m(\u001B[49m\u001B[43mx\u001B[49m\u001B[43m)\u001B[49m\u001B[43m \u001B[49m\u001B[38;5;28;43;01mfor\u001B[39;49;00m\u001B[43m \u001B[49m\u001B[43mx\u001B[49m\u001B[43m \u001B[49m\u001B[38;5;129;43;01min\u001B[39;49;00m\u001B[43m \u001B[49m\u001B[43mX\u001B[49m\u001B[43m)\u001B[49m  \u001B[38;5;66;03m# Use all available cores\u001B[39;00m\n\u001B[0;32m     22\u001B[0m     \u001B[38;5;28;01mreturn\u001B[39;00m np\u001B[38;5;241m.\u001B[39marray(y_pred)\n",
      "File \u001B[1;32mD:\\软件\\Python\\Lib\\site-packages\\joblib\\parallel.py:1952\u001B[0m, in \u001B[0;36mParallel.__call__\u001B[1;34m(self, iterable)\u001B[0m\n\u001B[0;32m   1946\u001B[0m \u001B[38;5;66;03m# The first item from the output is blank, but it makes the interpreter\u001B[39;00m\n\u001B[0;32m   1947\u001B[0m \u001B[38;5;66;03m# progress until it enters the Try/Except block of the generator and\u001B[39;00m\n\u001B[0;32m   1948\u001B[0m \u001B[38;5;66;03m# reach the first `yield` statement. This starts the aynchronous\u001B[39;00m\n\u001B[0;32m   1949\u001B[0m \u001B[38;5;66;03m# dispatch of the tasks to the workers.\u001B[39;00m\n\u001B[0;32m   1950\u001B[0m \u001B[38;5;28mnext\u001B[39m(output)\n\u001B[1;32m-> 1952\u001B[0m \u001B[38;5;28;01mreturn\u001B[39;00m output \u001B[38;5;28;01mif\u001B[39;00m \u001B[38;5;28mself\u001B[39m\u001B[38;5;241m.\u001B[39mreturn_generator \u001B[38;5;28;01melse\u001B[39;00m \u001B[38;5;28;43mlist\u001B[39;49m\u001B[43m(\u001B[49m\u001B[43moutput\u001B[49m\u001B[43m)\u001B[49m\n",
      "File \u001B[1;32mD:\\软件\\Python\\Lib\\site-packages\\joblib\\parallel.py:1595\u001B[0m, in \u001B[0;36mParallel._get_outputs\u001B[1;34m(self, iterator, pre_dispatch)\u001B[0m\n\u001B[0;32m   1592\u001B[0m     \u001B[38;5;28;01myield\u001B[39;00m\n\u001B[0;32m   1594\u001B[0m     \u001B[38;5;28;01mwith\u001B[39;00m \u001B[38;5;28mself\u001B[39m\u001B[38;5;241m.\u001B[39m_backend\u001B[38;5;241m.\u001B[39mretrieval_context():\n\u001B[1;32m-> 1595\u001B[0m         \u001B[38;5;28;01myield from\u001B[39;00m \u001B[38;5;28mself\u001B[39m\u001B[38;5;241m.\u001B[39m_retrieve()\n\u001B[0;32m   1597\u001B[0m \u001B[38;5;28;01mexcept\u001B[39;00m \u001B[38;5;167;01mGeneratorExit\u001B[39;00m:\n\u001B[0;32m   1598\u001B[0m     \u001B[38;5;66;03m# The generator has been garbage collected before being fully\u001B[39;00m\n\u001B[0;32m   1599\u001B[0m     \u001B[38;5;66;03m# consumed. This aborts the remaining tasks if possible and warn\u001B[39;00m\n\u001B[0;32m   1600\u001B[0m     \u001B[38;5;66;03m# the user if necessary.\u001B[39;00m\n\u001B[0;32m   1601\u001B[0m     \u001B[38;5;28mself\u001B[39m\u001B[38;5;241m.\u001B[39m_exception \u001B[38;5;241m=\u001B[39m \u001B[38;5;28;01mTrue\u001B[39;00m\n",
      "File \u001B[1;32mD:\\软件\\Python\\Lib\\site-packages\\joblib\\parallel.py:1707\u001B[0m, in \u001B[0;36mParallel._retrieve\u001B[1;34m(self)\u001B[0m\n\u001B[0;32m   1702\u001B[0m \u001B[38;5;66;03m# If the next job is not ready for retrieval yet, we just wait for\u001B[39;00m\n\u001B[0;32m   1703\u001B[0m \u001B[38;5;66;03m# async callbacks to progress.\u001B[39;00m\n\u001B[0;32m   1704\u001B[0m \u001B[38;5;28;01mif\u001B[39;00m ((\u001B[38;5;28mlen\u001B[39m(\u001B[38;5;28mself\u001B[39m\u001B[38;5;241m.\u001B[39m_jobs) \u001B[38;5;241m==\u001B[39m \u001B[38;5;241m0\u001B[39m) \u001B[38;5;129;01mor\u001B[39;00m\n\u001B[0;32m   1705\u001B[0m     (\u001B[38;5;28mself\u001B[39m\u001B[38;5;241m.\u001B[39m_jobs[\u001B[38;5;241m0\u001B[39m]\u001B[38;5;241m.\u001B[39mget_status(\n\u001B[0;32m   1706\u001B[0m         timeout\u001B[38;5;241m=\u001B[39m\u001B[38;5;28mself\u001B[39m\u001B[38;5;241m.\u001B[39mtimeout) \u001B[38;5;241m==\u001B[39m TASK_PENDING)):\n\u001B[1;32m-> 1707\u001B[0m     time\u001B[38;5;241m.\u001B[39msleep(\u001B[38;5;241m0.01\u001B[39m)\n\u001B[0;32m   1708\u001B[0m     \u001B[38;5;28;01mcontinue\u001B[39;00m\n\u001B[0;32m   1710\u001B[0m \u001B[38;5;66;03m# We need to be careful: the job list can be filling up as\u001B[39;00m\n\u001B[0;32m   1711\u001B[0m \u001B[38;5;66;03m# we empty it and Python list are not thread-safe by\u001B[39;00m\n\u001B[0;32m   1712\u001B[0m \u001B[38;5;66;03m# default hence the use of the lock\u001B[39;00m\n",
      "\u001B[1;31mKeyboardInterrupt\u001B[0m: "
     ]
    }
   ],
   "source": [
    "# The version with parallel\n",
    "\n",
    "# Define the KNN classifier class\n",
    "class KNNClassifier_p:\n",
    "    def __init__(self, k=3):\n",
    "        self.k = k  # Number of neighbors\n",
    "\n",
    "    def fit(self, X, y):\n",
    "        self.X_train = X  # Store the training data\n",
    "        self.y_train = y  # Store the training labels\n",
    "\n",
    "    def euclidean_distance(self, x1, x2):\n",
    "        # Calculate the Euclidean distance between two points\n",
    "        diff = (x1 - x2)\n",
    "        sqr_diff = diff ** 2\n",
    "        sqr_diff_sum = np.sum(sqr_diff)\n",
    "        return np.sqrt(sqr_diff_sum)\n",
    "\n",
    "    def predict(self, X):\n",
    "        # Predict labels for the provided data using parallel processing\n",
    "        y_pred = Parallel(n_jobs=-1)(delayed(self._predict)(x) for x in X)  # Use all available cores\n",
    "        return np.array(y_pred)\n",
    "\n",
    "    def _predict(self, x):\n",
    "        # Calculate distances from the input point to all training points\n",
    "        distances = [self.euclidean_distance(x, x_train) for x_train in self.X_train]\n",
    "        # Sort distances and return indices of the first k neighbors\n",
    "        k_indices = np.argsort(distances)[:self.k]\n",
    "        # Extract the labels of the k nearest neighbor training samples\n",
    "        k_nearest_labels = [self.y_train[i] for i in k_indices]\n",
    "        # Return the most common class label among the k nearest neighbors\n",
    "        most_common = np.bincount(k_nearest_labels).argmax()\n",
    "        return most_common\n",
    "\n",
    "# Create an instance of the KNN classifier\n",
    "knn_p = KNNClassifier_p(k=2)\n",
    "# Fit the model\n",
    "knn_p.fit(X_train, y_train)\n",
    "\n",
    "# Initialize variables to record total correct predictions and total time\n",
    "total_correct_predictions = 0\n",
    "total_time = 0.0\n",
    "\n",
    "# Perform 30 runs of training and prediction\n",
    "for i in range(30):\n",
    "    # Record start time\n",
    "    start_time = time.time()\n",
    "\n",
    "    # Make predictions using the test samples\n",
    "    predictions = knn_p.predict(X_train[X_test])\n",
    "    correct_count = np.sum(y_train[X_test] == predictions)  # Count correct predictions\n",
    "\n",
    "    # Update total correct predictions\n",
    "    total_correct_predictions += correct_count\n",
    "\n",
    "    # Record end time\n",
    "    end_time = time.time()\n",
    "    elapsed_time = end_time - start_time  # Calculate elapsed time\n",
    "    total_time += elapsed_time  # Update total time\n",
    "\n",
    "    # Output the results for this run\n",
    "    print(f'Run {i+1}: Correct Predictions = {correct_count}, Time = {elapsed_time:.4f} seconds')\n",
    "\n",
    "# Calculate averages\n",
    "average_correct = total_correct_predictions / 30  # Average correct predictions\n",
    "print(f'\\nAverage Correct Predictions over 30 runs: {average_correct}')\n",
    "print(f'Total Execution Time over 30 runs: {total_time:.4f} seconds')\n"
   ],
   "metadata": {
    "collapsed": false,
    "ExecuteTime": {
     "end_time": "2024-11-03T15:40:59.275486Z",
     "start_time": "2024-11-03T15:37:51.091030300Z"
    }
   }
  }
 ],
 "metadata": {
  "kernelspec": {
   "display_name": "Python 3",
   "language": "python",
   "name": "python3"
  },
  "language_info": {
   "codemirror_mode": {
    "name": "ipython",
    "version": 2
   },
   "file_extension": ".py",
   "mimetype": "text/x-python",
   "name": "python",
   "nbconvert_exporter": "python",
   "pygments_lexer": "ipython2",
   "version": "2.7.6"
  }
 },
 "nbformat": 4,
 "nbformat_minor": 0
}
